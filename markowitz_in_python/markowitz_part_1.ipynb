{
 "cells": [
  {
   "cell_type": "markdown",
   "metadata": {},
   "source": [
    "## Einleitung"
   ]
  },
  {
   "cell_type": "markdown",
   "metadata": {},
   "source": [
    "Der erste Teil der Beitragsserie **Markowitz in Python** werden wir zunächst das theoretische Grundmodell der Modern Portfolio Theorie aufarbeiten.\n",
    "\n",
    "\n",
    "<div style=\"float:right;clear:right;margin-left:10px;width:200px;\"><img src=\"http://hello-finance.io/wp-content/uploads/2018/07/Markowitz.jpg\" width=\"200px\"/><i><small>Abb. 1: Harry Markowitz (Institutional Investor Journals, 2018)</small></i></div>\n",
    "Als Durchbruch in der klassischen Finanzmarkttheorie gilt die Modern Portfolio Theory (MPT) von H. Markowitz (1952), für die er 1990 den Alfred-Nobel-Gedächtnispreis für Wirtschaftswissenschaften erhielt. Er war einer der ersten, der einen mathematischen Zusammenhang von Risiko und Rendite formulierte und somit den Grundstein für weitere Theorien wie das Capital Asset Pricing Model (CAPM) legte.\n",
    "\n",
    "Die vorherrschende, theoretische Annahme zu dieser Zeit war, dass Investoren lediglich ihre Rendite maximieren wollen. Markowitz zeigte, dass diese Annahme nicht haltbar ist, da ansonsten Investoren all ihr Vermögen in das Investment mit der höchsten erwarteten Rendite investieren würden. Stattdessen beobachtete Markowitz, dass Investoren ihre Gelder auf verschiedene Investments aufteilen. Er verwarf demnach die Theorie einer monovariablen Optimierung (Rendite) und fügte Risiko als zusätzliche Entscheidungskomponente hinzu. Seine These war, dass Investoren ihre Rendite maximieren und dabei das Risiko minimieren möchten. Als erster seiner Zeit entwarf Markowitz für dieses Optimierungsproblem ein mathematisches Modell. Die Erstellung eines effizienten Portfolios hatte damit erstmalig ein fundiertes System."
   ]
  },
  {
   "cell_type": "markdown",
   "metadata": {},
   "source": [
    "## Modellierung 2-Asset Fall"
   ]
  },
  {
   "cell_type": "markdown",
   "metadata": {},
   "source": [
    "Zur Vereinfachung werden wir uns im Folgenden ein Portfolio bestehend aus zwei Wertpapieren betrachten, da dieser sogenannte 2-Asset-Fall rekursiv auf eine beliebige Anzahl an Wertpapieren heruntergebrochen werden kann.\n",
    "\n",
    "Markowitz bezeichnete das Risiko einer Anlage als Varianz der Renditen $r_i$\n",
    "\n",
    "$$\\sigma^2 = \\frac{1}{n}\\sum_i(r_i-\\hat{r})^2$$\n",
    "\n",
    ", wobei $\\hat{r}$ den Mittelwert der Renditen darstellt.\n",
    "\n",
    "Seien $A$ und $B$ zwei Aktien mit den Volatilitäten $\\sigma_A$ und $\\sigma_B$, den erwarteten Renditen $E(r_A)$ und $E(r_B)$ und den Portfoliogewichten $w_A$ und $w_B$, so gilt für die erwartete Rendite des Portfolios \n",
    "\n",
    "$$E(r_{pf})=w_A \\times E(r_A)+w_B\\times E(r_B)$$\n",
    "\n",
    "Anders ausgedrückt: **die erwartete Portfoliorendite ist das gewichtete Mittel der einzelnen Aktienrenditen.**\n",
    "\n",
    "Anders verhält es sich beim Risiko des Portfolios. Dort können wir **nicht** einfach anhand die Volatilität der einzelnen Aktien mit dem entsprechenden Portfoliogewicht addieren. Denn hier müssen wir auch die Korrelation der einzelnen Aktien berücksichtigen: angenommen zwei Aktien sind hoch riskant (ohne “hoch riskant” nun genauer zu quantifizieren), aber sie korrelieren stets mit −1 zueinander, wird das Portfolio kein Risiko aufweisen, da eine der beiden Aktien die Bewegung der Anderen kompensiert.\n",
    "\n",
    "Im 2-Asset-Fall ergibt sich folgende Formel für Varianz eines Portfolios\n",
    "\n",
    "$$\\begin{eqnarray*}\n",
    "\\sigma_{pf}^2 &=& \\sigma_A^2 \\times w_A^2 + \\sigma_B^2 \\times w_B^2 + 2 w_A w_B  cov_{A,B} \\\\\n",
    "\\sigma_{pf} &=& \\sqrt{\\sigma_{pf}^2}\n",
    "\\end{eqnarray*}$$\n",
    "\n",
    ", wobei $cov_{A,B}$ die Kovarianz der Renditen von $A$ und $B$ darstellt.\n",
    "\n",
    "Mit den Formeln für die erwartete Portfoliorendite und das Portfoliorisiko können wir nun das Optimierungsproblem eines jeden Investors formulieren."
   ]
  },
  {
   "cell_type": "markdown",
   "metadata": {},
   "source": [
    "## Optimierungsproblem"
   ]
  },
  {
   "cell_type": "markdown",
   "metadata": {},
   "source": [
    "<p>\n",
    "Nach Markowitz hängt die optimale Portfolio Allokation von der jeweiligen Risikoaversion des Investors ab. Diese Risikoaversion bezeichnen wir im Folgendem als Gamma $\\gamma \\in \\mathbb{R}$. Das Optimierungsproblem eines jeden Investors ist nun die Aktiengewichtungen $\\bf{W}$ so zu wählen, dass die erwartete Rendite abzüglich eines gewichteten Strafterms für erwartete Varianz maximiert wird:\n",
    "</p>\n",
    "\n",
    "<p>\n",
    "\n",
    "$$\\begin{equation*}\n",
    "\\begin{aligned}\n",
    "& \\underset{W}{\\text{maximize}}\n",
    "& & r_{pf}(W) - \\gamma \\times \\sigma_{pf}(W)\\\\\n",
    "\\end{aligned}\n",
    "\\end{equation*}\n",
    "$$\n",
    "\n",
    "</p>\n",
    "\n",
    "\n",
    "<p>\n",
    "<div style=\"float:right;clear:right;margin:15px;width:500px;\"><img src=\"http://hello-finance.io/wp-content/uploads/2018/01/markowitz-1200x450.png\" width=\"500px\"/><i style=\"float:none\"><small>Abb. 2: Zusammenhang von Risiko und Rendite im 2-Asset-Fall.</small></i></div>\n",
    "\n",
    "Je nach Gamma-Wert ergibt sich nun eine Vielzahl an optimalen Portfolio-Allokationen. Verbindet man diese optimalen Allokationen mit einer Linie ergibt sich die sogenannte **Efficient Frontier** (Abb. 2, rote Linie). Diese Efficient Frontier verbindet alle Portfolien mit einem optimalen Risiko-Rendite-Verhätnis. Im zweiten Teil dieser Beitragsserie werden wir diese Efficient Frontier anhannd echter Kursdaten simulieren.\n",
    "</p>\n",
    "\n",
    "<p>\n",
    "Das Portfolio im linken Extremum wird auch **Minimum-Varianz-Portfolio** genannt. Es zeichnet sich durch das geringstmögliche Risiko aus. Im letzten Teil dieser Beitragsserie werden wir die Berechnung eines Minimum-Varianz-Portfolios für die DAX-Werte implementieren.\n",
    "\n",
    "</p>\n",
    "\n",
    "<p>\n",
    "Wichtig zu erwähnen ist, dass es für das oben genannte Optimierungsproblem, sowie für die Berechnung des Minimum-Varianz-Portfolios, **keine geschlossene Lösungsformel gibt**. Wir sind daher bei der Implementierung auf Optimierungsverfahren angewiesen. Doch dazu später mehr.\n",
    "</p>"
   ]
  },
  {
   "cell_type": "markdown",
   "metadata": {},
   "source": [
    "## Modellerweiterung"
   ]
  },
  {
   "cell_type": "markdown",
   "metadata": {},
   "source": [
    "Aufbauend auf der Arbeit von Markowitz (1952) hat Tobin (1956) die MPT erweitert. Während es nach Markowitz viele verschiedene Portfolien gibt, welche optimal sind, konnte Tobin zeigen, dass es in der Tat ein einzelnes, optimales Portfolio für alle Investoren gibt.\n",
    "\n",
    "<p>\n",
    "<div style=\"float:right;clear:right;margin:15px;width:500px;\"><img src=\"http://hello-finance.io/wp-content/uploads/2018/07/sharpe-1.png\" width=\"500px\"/><i style=\"float:none\"><small>Capital Market Line</small></i></div>\n",
    "\n",
    "Dieses Portfolio zeichnet sich durch das größte Rendite-Risiko-Verhältnis aus und befindet sich folglich am steilsten Punkt der *Efficient Frontier*. Das Verhältnis von Rendite und Risiko (hier: Volatilität) wird in der Regel als **Sharpe-Ratio** bezeichnet. Je höher das Sharpe-Ratio desto besser ist die Rendite im Verhältnis zum eingegangenen Risiko. \n",
    "</p>\n",
    "\n",
    "<p>\n",
    "$$S=\\frac{r_{pf}}{\\sigma_{pf}}$$ \n",
    "\n",
    "</p>\n",
    "\n",
    "<p>\n",
    "Das Portfolio mit der größter Sharpe-Ratio wird auch als **Tengency-Portfolio** bezeichnet. Es stellt für alle Investoren das optimale Portfolio dar, da Investoren dieses Portfolio durch unter- beziehungsweise übergewichtung entlang der sogenannten **Capital Market Line** quasi verschieben können. Dies geschieht durch Hinzunahme einer risikolosen Anlage (beispielsweise T-Bills, oder kurzfristige Spareinlagen). **So kann ein Investor sein Vermögen zwischen der risikolosen Anlage und dem Tangency-Portfolio so aufteilen, dass die erwartete Rendite dem des Minimum-Varianz-Portfolios entspricht und das Risiko dennoch geringerer ist.**\n",
    "</p>\n",
    "    \n",
    "<p>Im Rahmen unserer Implementierung werden wir ebenfalls die Zusammensetzung des Tangency-Portfolios für die DAX-Werte berechnen und diesen Zusammenhang kontrollieren.\n",
    "\n",
    "</p>\n",
    "\n"
   ]
  },
  {
   "cell_type": "markdown",
   "metadata": {},
   "source": [
    "## Primärquellen"
   ]
  },
  {
   "cell_type": "markdown",
   "metadata": {},
   "source": [
    "- **Markowitz, H. (1952).** *Portfolio Selection.* In: Journal of Finance 7.1, S. 77–91.\n",
    "- **Mossin, J. (1966).** *Equilibrium in a Capital Asset Market.* In: Econometrica 34.4, S. 768–783.\n",
    "- **Ross, S. (1976).** *The Arbitrage Theory of Capital Asset Pricing.* In: Journal of Economic Theory 13.3, S. 341–360.\n",
    "- **Tobin, J. (1956).** *The Interest-Elasticity of Transactions Demand For Cash*. In: The Review of Economics and Statistics 38.3, S. 241–247.\n",
    "- **Lintner, J. (1965).** *The Valuation of Risk Assets and the Selection of Risky Investments in Stock Portfolios and Capital Budgets*. In: The Review of Economics and Statistics 47.1, S. 13–37."
   ]
  },
  {
   "cell_type": "markdown",
   "metadata": {},
   "source": [
    "## Anmerkungen"
   ]
  },
  {
   "cell_type": "markdown",
   "metadata": {},
   "source": [
    "- Die Berechnung der Sharpe Ratio berücksichtigt streng genommen auch noch den risikofreien Zins. Dies wurde hier allerdings aus Gründen der Einfachheit ignoriert."
   ]
  }
 ],
 "metadata": {
  "kernelspec": {
   "display_name": "Python 2",
   "language": "python",
   "name": "python2"
  },
  "language_info": {
   "codemirror_mode": {
    "name": "ipython",
    "version": 2
   },
   "file_extension": ".py",
   "mimetype": "text/x-python",
   "name": "python",
   "nbconvert_exporter": "python",
   "pygments_lexer": "ipython2",
   "version": "2.7.15"
  }
 },
 "nbformat": 4,
 "nbformat_minor": 2
}
