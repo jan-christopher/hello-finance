{
 "cells": [
  {
   "cell_type": "markdown",
   "metadata": {},
   "source": [
    "# yahoo_finance "
   ]
  },
  {
   "cell_type": "markdown",
   "metadata": {},
   "source": [
    "This module allows basic access to Yahoo Finance data (stock prices, dividends and splits)."
   ]
  },
  {
   "cell_type": "code",
   "execution_count": 1,
   "metadata": {},
   "outputs": [],
   "source": [
    "import yahoo_finance"
   ]
  },
  {
   "cell_type": "markdown",
   "metadata": {},
   "source": [
    "## Basic Usage"
   ]
  },
  {
   "cell_type": "markdown",
   "metadata": {},
   "source": [
    "You can download **stock quotes** with"
   ]
  },
  {
   "cell_type": "code",
   "execution_count": 2,
   "metadata": {},
   "outputs": [
    {
     "name": "stdout",
     "output_type": "stream",
     "text": [
      "{u'Volume': 168022400.0, u'Adj Close': 0.585014, u'High': 0.679688, u'Low': 0.539063, u'Date': datetime.datetime(1992, 1, 22, 0, 0), u'Close': 0.632813, u'Open': 0.539063}\n",
      "{u'Volume': 11505700.0, u'Adj Close': 70.230003, u'High': 71.410004, u'Low': 69.910004, u'Date': datetime.datetime(2018, 6, 15, 0, 0), u'Close': 70.230003, u'Open': 71.099998}\n"
     ]
    }
   ],
   "source": [
    "quotes = yahoo_finance.download_quotes(\"GILD\")\n",
    "print quotes[0]\n",
    "print quotes[-1]"
   ]
  },
  {
   "cell_type": "markdown",
   "metadata": {},
   "source": [
    "By default this will download all the available price data (with a daily interval). However, you can **change the interval and the time range:**"
   ]
  },
  {
   "cell_type": "code",
   "execution_count": 3,
   "metadata": {},
   "outputs": [
    {
     "name": "stdout",
     "output_type": "stream",
     "text": [
      "{u'Volume': 168022400.0, u'Adj Close': 0.585014, u'High': 0.679688, u'Low': 0.539063, u'Date': datetime.datetime(1992, 1, 22, 0, 0), u'Close': 0.632813, u'Open': 0.539063}\n",
      "{u'Volume': 11505700.0, u'Adj Close': 70.230003, u'High': 71.410004, u'Low': 69.910004, u'Date': datetime.datetime(2018, 6, 15, 0, 0), u'Close': 70.230003, u'Open': 71.099998}\n"
     ]
    }
   ],
   "source": [
    "import datetime\n",
    "\n",
    "start = datetime.date(2014, 1, 1)\n",
    "weekly_data = yahoo_finance.download_quotes(\"GILD\", start_date=start, interval=\"1wk\")\n",
    "\n",
    "print quotes[0]\n",
    "print quotes[-1]"
   ]
  },
  {
   "cell_type": "markdown",
   "metadata": {},
   "source": [
    "You can also download the **dividends** with"
   ]
  },
  {
   "cell_type": "code",
   "execution_count": 4,
   "metadata": {},
   "outputs": [
    {
     "name": "stdout",
     "output_type": "stream",
     "text": [
      "{u'Date': datetime.datetime(2016, 9, 14, 0, 0), u'Dividends': 0.47}\n",
      "{u'Date': datetime.datetime(2017, 3, 14, 0, 0), u'Dividends': 0.52}\n"
     ]
    }
   ],
   "source": [
    "dividends = yahoo_finance.download_dividends(\"GILD\")\n",
    "print dividends[0]\n",
    "print dividends[-1]"
   ]
  },
  {
   "cell_type": "markdown",
   "metadata": {},
   "source": [
    "You can specify a time range for the dividends, too, using <code>start_date</code> and <code>end_date</code>."
   ]
  },
  {
   "cell_type": "markdown",
   "metadata": {},
   "source": [
    "## Getting Ready-To-Use Return Vectors"
   ]
  },
  {
   "cell_type": "markdown",
   "metadata": {},
   "source": [
    "This module also allow quick access to synchronized return vectors (often required for further data manipulation): "
   ]
  },
  {
   "cell_type": "code",
   "execution_count": 10,
   "metadata": {},
   "outputs": [],
   "source": [
    "universe = [\"ADS.DE\", \"SAP.DE\", \"BAS.DE\"]\n",
    "\n",
    "# download price data\n",
    "price_data = [yahoo_finance.download_quotes(symbol) for symbol in universe]\n",
    "\n",
    "# synchronize price data\n",
    "syncd = yahoo_finance.synchronize_price_data(price_data)\n",
    "\n",
    "# calculate return vector\n",
    "return_vector = yahoo_finance.get_synchronized_returns(syncd)"
   ]
  },
  {
   "cell_type": "markdown",
   "metadata": {},
   "source": [
    "The output is a simple mXn list where m equals the number of stocks and n the number of returns."
   ]
  },
  {
   "cell_type": "markdown",
   "metadata": {},
   "source": [
    "If the resulting price data is much smaller than the original dataset a warning will be raised:"
   ]
  },
  {
   "cell_type": "code",
   "execution_count": 6,
   "metadata": {},
   "outputs": [
    {
     "name": "stderr",
     "output_type": "stream",
     "text": [
      "yahoo_finance.py:113: UserWarning: Coverage treshold hit: resulting coverage is 0.08% (0.92% data loss).\n",
      "  % (coverage, 1 - coverage))\n"
     ]
    }
   ],
   "source": [
    "universe = [\"SAP.DE\", \"UN01.DE\", \"BAS.DE\"]\n",
    "\n",
    "price_data = [yahoo_finance.download_quotes(symbol) for symbol in universe]\n",
    "syncd = yahoo_finance.synchronize_price_data(price_data)"
   ]
  },
  {
   "cell_type": "markdown",
   "metadata": {},
   "source": [
    "By default the coverage treshold is 90%."
   ]
  },
  {
   "cell_type": "markdown",
   "metadata": {},
   "source": [
    "## Usage Example"
   ]
  },
  {
   "cell_type": "markdown",
   "metadata": {},
   "source": [
    "### Simple Charting"
   ]
  },
  {
   "cell_type": "code",
   "execution_count": 16,
   "metadata": {},
   "outputs": [
    {
     "data": {
      "text/plain": [
       "Text(0.5,1,'Stock price of GILD ranging from 1992-01-22 00:00:00 to 2018-06-15 00:00:00')"
      ]
     },
     "execution_count": 16,
     "metadata": {},
     "output_type": "execute_result"
    },
    {
     "data": {
      "image/png": "[encoded data removed]",
      "text/plain": [
       "<Figure size 432x288 with 1 Axes>"
      ]
     },
     "metadata": {},
     "output_type": "display_data"
    }
   ],
   "source": [
    "%matplotlib inline\n",
    "import matplotlib.pyplot as plt\n",
    "\n",
    "quotes = yahoo_finance.download_quotes(\"GILD\")\n",
    "\n",
    "start, end = quotes[0][\"Date\"], quotes[-1][\"Date\"]\n",
    "plt.plot([day[\"Date\"] for day in quotes], [day[\"Close\"] for day in quotes])\n",
    "plt.title(\"Stock price of GILD ranging from %s to %s in USD\" % (start, end))\n"
   ]
  },
  {
   "cell_type": "markdown",
   "metadata": {},
   "source": [
    "### Get Correlations of certain Stock Universe"
   ]
  },
  {
   "cell_type": "code",
   "execution_count": 11,
   "metadata": {},
   "outputs": [
    {
     "name": "stdout",
     "output_type": "stream",
     "text": [
      "[[1.         0.06401106 0.44261776]\n",
      " [0.06401106 1.         0.07235774]\n",
      " [0.44261776 0.07235774 1.        ]]\n"
     ]
    }
   ],
   "source": [
    "import yahoo_finance\n",
    "import numpy\n",
    "\n",
    "universe = [\"ADS.DE\", \"SAP.DE\", \"BAS.DE\"]\n",
    "price_data = [yahoo_finance.download_quotes(symbol) for symbol in universe]\n",
    "syncd = yahoo_finance.synchronize_price_data(price_data)\n",
    "return_vector = yahoo_finance.get_synchronized_returns(syncd)\n",
    "\n",
    "print numpy.corrcoef(return_vector)"
   ]
  },
  {
   "cell_type": "code",
   "execution_count": null,
   "metadata": {},
   "outputs": [],
   "source": []
  }
 ],
 "metadata": {
  "kernelspec": {
   "display_name": "Python 2",
   "language": "python",
   "name": "python2"
  },
  "language_info": {
   "codemirror_mode": {
    "name": "ipython",
    "version": 2
   },
   "file_extension": ".py",
   "mimetype": "text/x-python",
   "name": "python",
   "nbconvert_exporter": "python",
   "pygments_lexer": "ipython2",
   "version": "2.7.14"
  }
 },
 "nbformat": 4,
 "nbformat_minor": 2
}
